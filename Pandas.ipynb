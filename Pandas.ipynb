{
 "cells": [
  {
   "cell_type": "code",
   "id": "initial_id",
   "metadata": {
    "collapsed": true,
    "ExecuteTime": {
     "end_time": "2025-03-15T13:56:23.561149Z",
     "start_time": "2025-03-15T13:55:48.218498Z"
    }
   },
   "source": "! pip install pandas",
   "outputs": [
    {
     "name": "stdout",
     "output_type": "stream",
     "text": [
      "Collecting pandas\r\n",
      "  Downloading pandas-2.2.3-cp312-cp312-manylinux_2_17_x86_64.manylinux2014_x86_64.whl.metadata (89 kB)\r\n",
      "Collecting numpy>=1.26.0 (from pandas)\r\n",
      "  Downloading numpy-2.2.3-cp312-cp312-manylinux_2_17_x86_64.manylinux2014_x86_64.whl.metadata (62 kB)\r\n",
      "Requirement already satisfied: python-dateutil>=2.8.2 in /opt/conda/envs/A2025/lib/python3.12/site-packages (from pandas) (2.9.0.post0)\r\n",
      "Collecting pytz>=2020.1 (from pandas)\r\n",
      "  Downloading pytz-2025.1-py2.py3-none-any.whl.metadata (22 kB)\r\n",
      "Collecting tzdata>=2022.7 (from pandas)\r\n",
      "  Downloading tzdata-2025.1-py2.py3-none-any.whl.metadata (1.4 kB)\r\n",
      "Requirement already satisfied: six>=1.5 in /opt/conda/envs/A2025/lib/python3.12/site-packages (from python-dateutil>=2.8.2->pandas) (1.17.0)\r\n",
      "Downloading pandas-2.2.3-cp312-cp312-manylinux_2_17_x86_64.manylinux2014_x86_64.whl (12.7 MB)\r\n",
      "\u001B[2K   \u001B[90m━━━━━━━━━━━━━━━━━━━━━━━━━━━━━━━━━━━━━━━━\u001B[0m \u001B[32m12.7/12.7 MB\u001B[0m \u001B[31m2.8 MB/s\u001B[0m eta \u001B[36m0:00:00\u001B[0ma \u001B[36m0:00:01\u001B[0m\r\n",
      "\u001B[?25hDownloading numpy-2.2.3-cp312-cp312-manylinux_2_17_x86_64.manylinux2014_x86_64.whl (16.1 MB)\r\n",
      "\u001B[2K   \u001B[90m━━━━━━━━━━━━━━━━━━━━━━━━━━━━━━━━━━━━━━━━\u001B[0m \u001B[32m16.1/16.1 MB\u001B[0m \u001B[31m1.2 MB/s\u001B[0m eta \u001B[36m0:00:00\u001B[0m00:01\u001B[0m00:01\u001B[0m0m\r\n",
      "\u001B[?25hDownloading pytz-2025.1-py2.py3-none-any.whl (507 kB)\r\n",
      "Downloading tzdata-2025.1-py2.py3-none-any.whl (346 kB)\r\n",
      "Installing collected packages: pytz, tzdata, numpy, pandas\r\n",
      "Successfully installed numpy-2.2.3 pandas-2.2.3 pytz-2025.1 tzdata-2025.1\r\n"
     ]
    }
   ],
   "execution_count": 2
  },
  {
   "metadata": {
    "ExecuteTime": {
     "end_time": "2025-03-15T14:00:43.334704Z",
     "start_time": "2025-03-15T14:00:42.743486Z"
    }
   },
   "cell_type": "code",
   "source": [
    "import pandas as pd\n",
    "data = {\n",
    "    \"products\" : [\"Phone\", \"Laptop\",\"Pad\", \"Earphone\", \"Smart Watch\",\n",
    "                 \"Camera\", \"Television\", \"Speaker\", \"Printer\", \"Router\"],\n",
    "    \"Sales\" : [150, 80, 90,200,120, 60,50,130,70,40],\n",
    "    \"Prices($)\" : [3000, 6000, 2000, 800, 1500, 5000, 4000, 1500, 1000, 600],\n",
    "    \"Sold Date\" : pd.date_range(start=\"2025-01-01\", periods=10, freq='D')\n",
    "}\n",
    "df = pd.DataFrame(data)\n",
    "\n",
    "# 1. 筛选出销售量大于100的产品\n",
    "high_sales = df[df[\"Sales\"] > 100]\n",
    "\n",
    "# 2. 按销售量从大到小排序\n",
    "sorted_df = df.sort_values(by=\"Sales\", ascending=False)\n",
    "\n",
    "# 3. 计算平均销售量\n",
    "avg_sales = df[\"Sales\"].mean()\n",
    "\n",
    "# 4. 计算总销售额并添加新列\n",
    "df[\"Total Sales($)\"] = df[\"Sales\"] * df[\"Prices($)\"]\n",
    "\n",
    "print(\"1. 销售量大于100的产品:\\n\", high_sales)\n",
    "print(\"\\n2. 按销售量降序排序:\\n\", sorted_df)\n",
    "print(\"\\n3. 平均销售量:\", avg_sales)\n",
    "print(\"\\n4. 添加总销售额后的完整数据:\\n\", df)\n",
    "print(df)\n"
   ],
   "id": "21636af92d50aff1",
   "outputs": [],
   "execution_count": 3
  },
  {
   "metadata": {
    "ExecuteTime": {
     "end_time": "2025-03-15T13:21:21.203687Z",
     "start_time": "2025-03-15T13:21:21.198834Z"
    }
   },
   "cell_type": "code",
   "source": "",
   "id": "794a08efd237e887",
   "outputs": [],
   "execution_count": null
  },
  {
   "metadata": {},
   "cell_type": "code",
   "outputs": [],
   "execution_count": null,
   "source": "",
   "id": "1930874a913e7772"
  }
 ],
 "metadata": {
  "kernelspec": {
   "display_name": "Python 3",
   "language": "python",
   "name": "python3"
  },
  "language_info": {
   "codemirror_mode": {
    "name": "ipython",
    "version": 2
   },
   "file_extension": ".py",
   "mimetype": "text/x-python",
   "name": "python",
   "nbconvert_exporter": "python",
   "pygments_lexer": "ipython2",
   "version": "2.7.6"
  }
 },
 "nbformat": 4,
 "nbformat_minor": 5
}
