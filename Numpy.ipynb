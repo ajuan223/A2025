{
 "cells": [
  {
   "cell_type": "code",
   "execution_count": null,
   "id": "initial_id",
   "metadata": {
    "collapsed": true
   },
   "outputs": [],
   "source": "!pip install numpy"
  },
  {
   "metadata": {},
   "cell_type": "code",
   "outputs": [],
   "execution_count": null,
   "source": [
    "import numpy as np\n",
    "a = np.random.randn(2,12)\n",
    "print(a)\n",
    "even_arr = a[a % 2 == 0]\n",
    "print(\"1) 筛选出的偶数数组：\")\n",
    "print(even_arr)\n",
    "\n",
    "mean_val = np.mean(even_arr)\n",
    "std_val = np.std(even_arr)\n",
    "max_val = np.max(even_arr)\n",
    "min_val = np.min(even_arr)\n",
    "print(\"\\n2) 统计结果：\")\n",
    "print(f\"均值: {mean_val:.2f}\")\n",
    "print(f\"标准差: {std_val:.2f}\")\n",
    "print(f\"最大值: {max_val}\")\n",
    "print(f\"最小值: {min_val}\")\n",
    "\n",
    "original_array = np.array([[1, 2, 3], [4, 5, 6]])\n",
    "reshaped_array = original_array.reshape(3, 2)\n",
    "print(\"\\n3) 原始数组：\")\n",
    "print(original_array)\n",
    "print(\"变换后的数组：\")\n",
    "print(reshaped_array)\n",
    "\n",
    "matrix_b = np.array([[7, 8, 9, 10], [11, 12, 13, 14]])\n",
    "matrix_product = np.dot(reshaped_array, matrix_b)\n",
    "print(\"\\n4) 矩阵乘法结果：\")\n",
    "print(matrix_product)"
   ],
   "id": "d8f67b8066ac1b6f"
  }
 ],
 "metadata": {
  "kernelspec": {
   "display_name": "Python 3",
   "language": "python",
   "name": "python3"
  },
  "language_info": {
   "codemirror_mode": {
    "name": "ipython",
    "version": 2
   },
   "file_extension": ".py",
   "mimetype": "text/x-python",
   "name": "python",
   "nbconvert_exporter": "python",
   "pygments_lexer": "ipython2",
   "version": "2.7.6"
  }
 },
 "nbformat": 4,
 "nbformat_minor": 5
}
